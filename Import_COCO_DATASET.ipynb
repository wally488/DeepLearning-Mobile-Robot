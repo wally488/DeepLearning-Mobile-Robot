{
  "nbformat": 4,
  "nbformat_minor": 0,
  "metadata": {
    "colab": {
      "name": "Untitled4.ipynb",
      "provenance": [],
      "authorship_tag": "ABX9TyNfHu3/ezith2idzAJhJtRI",
      "include_colab_link": true
    },
    "kernelspec": {
      "name": "python3",
      "display_name": "Python 3"
    },
    "language_info": {
      "name": "python"
    }
  },
  "cells": [
    {
      "cell_type": "markdown",
      "metadata": {
        "id": "view-in-github",
        "colab_type": "text"
      },
      "source": [
        "<a href=\"https://colab.research.google.com/github/wally488/DeepLearning-Mobile-Robot/blob/main/Import_COCO_DATASET.ipynb\" target=\"_parent\"><img src=\"https://colab.research.google.com/assets/colab-badge.svg\" alt=\"Open In Colab\"/></a>"
      ]
    },
    {
      "cell_type": "code",
      "execution_count": 1,
      "metadata": {
        "colab": {
          "base_uri": "https://localhost:8080/"
        },
        "id": "eq3beBY4p1ji",
        "outputId": "f25b963e-15d5-467c-889a-239fa0c8017b"
      },
      "outputs": [
        {
          "output_type": "stream",
          "name": "stdout",
          "text": [
            "Collecting fiftyone\n",
            "  Downloading fiftyone-0.14.2-py3-none-any.whl (1.2 MB)\n",
            "\u001b[?25l\r\u001b[K     |▎                               | 10 kB 19.6 MB/s eta 0:00:01\r\u001b[K     |▌                               | 20 kB 26.4 MB/s eta 0:00:01\r\u001b[K     |▉                               | 30 kB 30.9 MB/s eta 0:00:01\r\u001b[K     |█                               | 40 kB 33.1 MB/s eta 0:00:01\r\u001b[K     |█▍                              | 51 kB 31.4 MB/s eta 0:00:01\r\u001b[K     |█▋                              | 61 kB 33.5 MB/s eta 0:00:01\r\u001b[K     |██                              | 71 kB 27.1 MB/s eta 0:00:01\r\u001b[K     |██▏                             | 81 kB 27.7 MB/s eta 0:00:01\r\u001b[K     |██▌                             | 92 kB 29.3 MB/s eta 0:00:01\r\u001b[K     |██▊                             | 102 kB 31.2 MB/s eta 0:00:01\r\u001b[K     |███                             | 112 kB 31.2 MB/s eta 0:00:01\r\u001b[K     |███▎                            | 122 kB 31.2 MB/s eta 0:00:01\r\u001b[K     |███▌                            | 133 kB 31.2 MB/s eta 0:00:01\r\u001b[K     |███▉                            | 143 kB 31.2 MB/s eta 0:00:01\r\u001b[K     |████                            | 153 kB 31.2 MB/s eta 0:00:01\r\u001b[K     |████▍                           | 163 kB 31.2 MB/s eta 0:00:01\r\u001b[K     |████▋                           | 174 kB 31.2 MB/s eta 0:00:01\r\u001b[K     |█████                           | 184 kB 31.2 MB/s eta 0:00:01\r\u001b[K     |█████▏                          | 194 kB 31.2 MB/s eta 0:00:01\r\u001b[K     |█████▍                          | 204 kB 31.2 MB/s eta 0:00:01\r\u001b[K     |█████▊                          | 215 kB 31.2 MB/s eta 0:00:01\r\u001b[K     |██████                          | 225 kB 31.2 MB/s eta 0:00:01\r\u001b[K     |██████▎                         | 235 kB 31.2 MB/s eta 0:00:01\r\u001b[K     |██████▌                         | 245 kB 31.2 MB/s eta 0:00:01\r\u001b[K     |██████▉                         | 256 kB 31.2 MB/s eta 0:00:01\r\u001b[K     |███████                         | 266 kB 31.2 MB/s eta 0:00:01\r\u001b[K     |███████▍                        | 276 kB 31.2 MB/s eta 0:00:01\r\u001b[K     |███████▋                        | 286 kB 31.2 MB/s eta 0:00:01\r\u001b[K     |███████▉                        | 296 kB 31.2 MB/s eta 0:00:01\r\u001b[K     |████████▏                       | 307 kB 31.2 MB/s eta 0:00:01\r\u001b[K     |████████▍                       | 317 kB 31.2 MB/s eta 0:00:01\r\u001b[K     |████████▊                       | 327 kB 31.2 MB/s eta 0:00:01\r\u001b[K     |█████████                       | 337 kB 31.2 MB/s eta 0:00:01\r\u001b[K     |█████████▎                      | 348 kB 31.2 MB/s eta 0:00:01\r\u001b[K     |█████████▌                      | 358 kB 31.2 MB/s eta 0:00:01\r\u001b[K     |█████████▉                      | 368 kB 31.2 MB/s eta 0:00:01\r\u001b[K     |██████████                      | 378 kB 31.2 MB/s eta 0:00:01\r\u001b[K     |██████████▍                     | 389 kB 31.2 MB/s eta 0:00:01\r\u001b[K     |██████████▋                     | 399 kB 31.2 MB/s eta 0:00:01\r\u001b[K     |██████████▉                     | 409 kB 31.2 MB/s eta 0:00:01\r\u001b[K     |███████████▏                    | 419 kB 31.2 MB/s eta 0:00:01\r\u001b[K     |███████████▍                    | 430 kB 31.2 MB/s eta 0:00:01\r\u001b[K     |███████████▊                    | 440 kB 31.2 MB/s eta 0:00:01\r\u001b[K     |████████████                    | 450 kB 31.2 MB/s eta 0:00:01\r\u001b[K     |████████████▎                   | 460 kB 31.2 MB/s eta 0:00:01\r\u001b[K     |████████████▌                   | 471 kB 31.2 MB/s eta 0:00:01\r\u001b[K     |████████████▉                   | 481 kB 31.2 MB/s eta 0:00:01\r\u001b[K     |█████████████                   | 491 kB 31.2 MB/s eta 0:00:01\r\u001b[K     |█████████████▎                  | 501 kB 31.2 MB/s eta 0:00:01\r\u001b[K     |█████████████▋                  | 512 kB 31.2 MB/s eta 0:00:01\r\u001b[K     |█████████████▉                  | 522 kB 31.2 MB/s eta 0:00:01\r\u001b[K     |██████████████▏                 | 532 kB 31.2 MB/s eta 0:00:01\r\u001b[K     |██████████████▍                 | 542 kB 31.2 MB/s eta 0:00:01\r\u001b[K     |██████████████▊                 | 552 kB 31.2 MB/s eta 0:00:01\r\u001b[K     |███████████████                 | 563 kB 31.2 MB/s eta 0:00:01\r\u001b[K     |███████████████▎                | 573 kB 31.2 MB/s eta 0:00:01\r\u001b[K     |███████████████▌                | 583 kB 31.2 MB/s eta 0:00:01\r\u001b[K     |███████████████▊                | 593 kB 31.2 MB/s eta 0:00:01\r\u001b[K     |████████████████                | 604 kB 31.2 MB/s eta 0:00:01\r\u001b[K     |████████████████▎               | 614 kB 31.2 MB/s eta 0:00:01\r\u001b[K     |████████████████▋               | 624 kB 31.2 MB/s eta 0:00:01\r\u001b[K     |████████████████▉               | 634 kB 31.2 MB/s eta 0:00:01\r\u001b[K     |█████████████████▏              | 645 kB 31.2 MB/s eta 0:00:01\r\u001b[K     |█████████████████▍              | 655 kB 31.2 MB/s eta 0:00:01\r\u001b[K     |█████████████████▊              | 665 kB 31.2 MB/s eta 0:00:01\r\u001b[K     |██████████████████              | 675 kB 31.2 MB/s eta 0:00:01\r\u001b[K     |██████████████████▎             | 686 kB 31.2 MB/s eta 0:00:01\r\u001b[K     |██████████████████▌             | 696 kB 31.2 MB/s eta 0:00:01\r\u001b[K     |██████████████████▊             | 706 kB 31.2 MB/s eta 0:00:01\r\u001b[K     |███████████████████             | 716 kB 31.2 MB/s eta 0:00:01\r\u001b[K     |███████████████████▎            | 727 kB 31.2 MB/s eta 0:00:01\r\u001b[K     |███████████████████▋            | 737 kB 31.2 MB/s eta 0:00:01\r\u001b[K     |███████████████████▉            | 747 kB 31.2 MB/s eta 0:00:01\r\u001b[K     |████████████████████▏           | 757 kB 31.2 MB/s eta 0:00:01\r\u001b[K     |████████████████████▍           | 768 kB 31.2 MB/s eta 0:00:01\r\u001b[K     |████████████████████▊           | 778 kB 31.2 MB/s eta 0:00:01\r\u001b[K     |█████████████████████           | 788 kB 31.2 MB/s eta 0:00:01\r\u001b[K     |█████████████████████▏          | 798 kB 31.2 MB/s eta 0:00:01\r\u001b[K     |█████████████████████▌          | 808 kB 31.2 MB/s eta 0:00:01\r\u001b[K     |█████████████████████▊          | 819 kB 31.2 MB/s eta 0:00:01\r\u001b[K     |██████████████████████          | 829 kB 31.2 MB/s eta 0:00:01\r\u001b[K     |██████████████████████▎         | 839 kB 31.2 MB/s eta 0:00:01\r\u001b[K     |██████████████████████▋         | 849 kB 31.2 MB/s eta 0:00:01\r\u001b[K     |██████████████████████▉         | 860 kB 31.2 MB/s eta 0:00:01\r\u001b[K     |███████████████████████▏        | 870 kB 31.2 MB/s eta 0:00:01\r\u001b[K     |███████████████████████▍        | 880 kB 31.2 MB/s eta 0:00:01\r\u001b[K     |███████████████████████▋        | 890 kB 31.2 MB/s eta 0:00:01\r\u001b[K     |████████████████████████        | 901 kB 31.2 MB/s eta 0:00:01\r\u001b[K     |████████████████████████▏       | 911 kB 31.2 MB/s eta 0:00:01\r\u001b[K     |████████████████████████▌       | 921 kB 31.2 MB/s eta 0:00:01\r\u001b[K     |████████████████████████▊       | 931 kB 31.2 MB/s eta 0:00:01\r\u001b[K     |█████████████████████████       | 942 kB 31.2 MB/s eta 0:00:01\r\u001b[K     |█████████████████████████▎      | 952 kB 31.2 MB/s eta 0:00:01\r\u001b[K     |█████████████████████████▋      | 962 kB 31.2 MB/s eta 0:00:01\r\u001b[K     |█████████████████████████▉      | 972 kB 31.2 MB/s eta 0:00:01\r\u001b[K     |██████████████████████████▏     | 983 kB 31.2 MB/s eta 0:00:01\r\u001b[K     |██████████████████████████▍     | 993 kB 31.2 MB/s eta 0:00:01\r\u001b[K     |██████████████████████████▋     | 1.0 MB 31.2 MB/s eta 0:00:01\r\u001b[K     |███████████████████████████     | 1.0 MB 31.2 MB/s eta 0:00:01\r\u001b[K     |███████████████████████████▏    | 1.0 MB 31.2 MB/s eta 0:00:01\r\u001b[K     |███████████████████████████▌    | 1.0 MB 31.2 MB/s eta 0:00:01\r\u001b[K     |███████████████████████████▊    | 1.0 MB 31.2 MB/s eta 0:00:01\r\u001b[K     |████████████████████████████    | 1.1 MB 31.2 MB/s eta 0:00:01\r\u001b[K     |████████████████████████████▎   | 1.1 MB 31.2 MB/s eta 0:00:01\r\u001b[K     |████████████████████████████▋   | 1.1 MB 31.2 MB/s eta 0:00:01\r\u001b[K     |████████████████████████████▉   | 1.1 MB 31.2 MB/s eta 0:00:01\r\u001b[K     |█████████████████████████████   | 1.1 MB 31.2 MB/s eta 0:00:01\r\u001b[K     |█████████████████████████████▍  | 1.1 MB 31.2 MB/s eta 0:00:01\r\u001b[K     |█████████████████████████████▋  | 1.1 MB 31.2 MB/s eta 0:00:01\r\u001b[K     |██████████████████████████████  | 1.1 MB 31.2 MB/s eta 0:00:01\r\u001b[K     |██████████████████████████████▏ | 1.1 MB 31.2 MB/s eta 0:00:01\r\u001b[K     |██████████████████████████████▌ | 1.1 MB 31.2 MB/s eta 0:00:01\r\u001b[K     |██████████████████████████████▊ | 1.2 MB 31.2 MB/s eta 0:00:01\r\u001b[K     |███████████████████████████████ | 1.2 MB 31.2 MB/s eta 0:00:01\r\u001b[K     |███████████████████████████████▎| 1.2 MB 31.2 MB/s eta 0:00:01\r\u001b[K     |███████████████████████████████▌| 1.2 MB 31.2 MB/s eta 0:00:01\r\u001b[K     |███████████████████████████████▉| 1.2 MB 31.2 MB/s eta 0:00:01\r\u001b[K     |████████████████████████████████| 1.2 MB 31.2 MB/s \n",
            "\u001b[?25hRequirement already satisfied: future in /usr/local/lib/python3.7/dist-packages (from fiftyone) (0.16.0)\n",
            "Collecting universal-analytics-python3<2,>=1.0.1\n",
            "  Downloading universal_analytics_python3-1.1.1-py3-none-any.whl (10 kB)\n",
            "Collecting boto3\n",
            "  Downloading boto3-1.20.27-py3-none-any.whl (131 kB)\n",
            "\u001b[K     |████████████████████████████████| 131 kB 50.6 MB/s \n",
            "\u001b[?25hRequirement already satisfied: pymongo<4,>=3.11 in /usr/local/lib/python3.7/dist-packages (from fiftyone) (3.12.1)\n",
            "Collecting mongoengine==0.20.0\n",
            "  Downloading mongoengine-0.20.0-py3-none-any.whl (106 kB)\n",
            "\u001b[K     |████████████████████████████████| 106 kB 68.7 MB/s \n",
            "\u001b[?25hCollecting fiftyone-db<0.4,>=0.3\n",
            "  Downloading fiftyone_db-0.3.0-py3-none-manylinux1_x86_64.whl (29.2 MB)\n",
            "\u001b[K     |████████████████████████████████| 29.2 MB 1.4 MB/s \n",
            "\u001b[?25hRequirement already satisfied: scikit-image in /usr/local/lib/python3.7/dist-packages (from fiftyone) (0.18.3)\n",
            "Collecting kaleido\n",
            "  Downloading kaleido-0.2.1-py2.py3-none-manylinux1_x86_64.whl (79.9 MB)\n",
            "\u001b[K     |████████████████████████████████| 79.9 MB 99 kB/s \n",
            "\u001b[?25hRequirement already satisfied: pytz in /usr/local/lib/python3.7/dist-packages (from fiftyone) (2018.9)\n",
            "Requirement already satisfied: numpy in /usr/local/lib/python3.7/dist-packages (from fiftyone) (1.19.5)\n",
            "Requirement already satisfied: psutil in /usr/local/lib/python3.7/dist-packages (from fiftyone) (5.4.8)\n",
            "Requirement already satisfied: PyYAML in /usr/local/lib/python3.7/dist-packages (from fiftyone) (3.13)\n",
            "Requirement already satisfied: packaging in /usr/local/lib/python3.7/dist-packages (from fiftyone) (21.3)\n",
            "Requirement already satisfied: tornado<7,>=5.1.1 in /usr/local/lib/python3.7/dist-packages (from fiftyone) (5.1.1)\n",
            "Collecting voxel51-eta<0.7,>=0.6.1\n",
            "  Downloading voxel51_eta-0.6.1-py2.py3-none-any.whl (562 kB)\n",
            "\u001b[K     |████████████████████████████████| 562 kB 47.4 MB/s \n",
            "\u001b[?25hCollecting opencv-python-headless\n",
            "  Downloading opencv_python_headless-4.5.5.62-cp36-abi3-manylinux_2_17_x86_64.manylinux2014_x86_64.whl (47.7 MB)\n",
            "\u001b[K     |████████████████████████████████| 47.7 MB 108 kB/s \n",
            "\u001b[?25hRequirement already satisfied: Pillow>=6.2 in /usr/local/lib/python3.7/dist-packages (from fiftyone) (7.1.2)\n",
            "Collecting pprintpp\n",
            "  Downloading pprintpp-0.4.0-py2.py3-none-any.whl (16 kB)\n",
            "Requirement already satisfied: argcomplete in /usr/local/lib/python3.7/dist-packages (from fiftyone) (1.12.3)\n",
            "Requirement already satisfied: scikit-learn in /usr/local/lib/python3.7/dist-packages (from fiftyone) (1.0.1)\n",
            "Collecting motor<3,>=2.3\n",
            "  Downloading motor-2.5.1-py3-none-any.whl (55 kB)\n",
            "\u001b[K     |████████████████████████████████| 55 kB 2.9 MB/s \n",
            "\u001b[?25hCollecting Deprecated\n",
            "  Downloading Deprecated-1.2.13-py2.py3-none-any.whl (9.6 kB)\n",
            "Collecting plotly<5,>=4.14\n",
            "  Downloading plotly-4.14.3-py2.py3-none-any.whl (13.2 MB)\n",
            "\u001b[K     |████████████████████████████████| 13.2 MB 42.1 MB/s \n",
            "\u001b[?25hRequirement already satisfied: Jinja2 in /usr/local/lib/python3.7/dist-packages (from fiftyone) (2.11.3)\n",
            "Requirement already satisfied: matplotlib in /usr/local/lib/python3.7/dist-packages (from fiftyone) (3.2.2)\n",
            "Requirement already satisfied: retrying in /usr/local/lib/python3.7/dist-packages (from fiftyone) (1.3.3)\n",
            "Requirement already satisfied: tabulate in /usr/local/lib/python3.7/dist-packages (from fiftyone) (0.8.9)\n",
            "Requirement already satisfied: pandas in /usr/local/lib/python3.7/dist-packages (from fiftyone) (1.1.5)\n",
            "Requirement already satisfied: setuptools in /usr/local/lib/python3.7/dist-packages (from fiftyone) (57.4.0)\n",
            "Collecting aiofiles\n",
            "  Downloading aiofiles-0.8.0-py3-none-any.whl (13 kB)\n",
            "Collecting eventlet\n",
            "  Downloading eventlet-0.33.0-py2.py3-none-any.whl (226 kB)\n",
            "\u001b[K     |████████████████████████████████| 226 kB 56.9 MB/s \n",
            "\u001b[?25hCollecting xmltodict\n",
            "  Downloading xmltodict-0.12.0-py2.py3-none-any.whl (9.2 kB)\n",
            "Collecting fiftyone-brain<0.8,>=0.7.2\n",
            "  Downloading fiftyone_brain-0.7.2-cp37-cp37m-manylinux1_x86_64.whl (639 kB)\n",
            "\u001b[K     |████████████████████████████████| 639 kB 50.1 MB/s \n",
            "\u001b[?25hRequirement already satisfied: scipy>=1.2.0 in /usr/local/lib/python3.7/dist-packages (from fiftyone-brain<0.8,>=0.7.2->fiftyone) (1.4.1)\n",
            "Requirement already satisfied: six in /usr/local/lib/python3.7/dist-packages (from plotly<5,>=4.14->fiftyone) (1.15.0)\n",
            "Collecting httpx>=0.10.0\n",
            "  Downloading httpx-0.21.1-py3-none-any.whl (83 kB)\n",
            "\u001b[K     |████████████████████████████████| 83 kB 1.7 MB/s \n",
            "\u001b[?25hCollecting sniffio\n",
            "  Downloading sniffio-1.2.0-py3-none-any.whl (10 kB)\n",
            "Requirement already satisfied: certifi in /usr/local/lib/python3.7/dist-packages (from httpx>=0.10.0->universal-analytics-python3<2,>=1.0.1->fiftyone) (2021.10.8)\n",
            "Requirement already satisfied: charset-normalizer in /usr/local/lib/python3.7/dist-packages (from httpx>=0.10.0->universal-analytics-python3<2,>=1.0.1->fiftyone) (2.0.8)\n",
            "Collecting httpcore<0.15.0,>=0.14.0\n",
            "  Downloading httpcore-0.14.3-py3-none-any.whl (56 kB)\n",
            "\u001b[K     |████████████████████████████████| 56 kB 4.4 MB/s \n",
            "\u001b[?25hCollecting rfc3986[idna2008]<2,>=1.3\n",
            "  Downloading rfc3986-1.5.0-py2.py3-none-any.whl (31 kB)\n",
            "Collecting anyio==3.*\n",
            "  Downloading anyio-3.4.0-py3-none-any.whl (78 kB)\n",
            "\u001b[K     |████████████████████████████████| 78 kB 6.9 MB/s \n",
            "\u001b[?25hCollecting h11<0.13,>=0.11\n",
            "  Downloading h11-0.12.0-py3-none-any.whl (54 kB)\n",
            "\u001b[K     |████████████████████████████████| 54 kB 3.0 MB/s \n",
            "\u001b[?25hRequirement already satisfied: idna>=2.8 in /usr/local/lib/python3.7/dist-packages (from anyio==3.*->httpcore<0.15.0,>=0.14.0->httpx>=0.10.0->universal-analytics-python3<2,>=1.0.1->fiftyone) (2.10)\n",
            "Requirement already satisfied: typing-extensions in /usr/local/lib/python3.7/dist-packages (from anyio==3.*->httpcore<0.15.0,>=0.14.0->httpx>=0.10.0->universal-analytics-python3<2,>=1.0.1->fiftyone) (3.10.0.2)\n",
            "Requirement already satisfied: dill in /usr/local/lib/python3.7/dist-packages (from voxel51-eta<0.7,>=0.6.1->fiftyone) (0.3.4)\n",
            "Requirement already satisfied: glob2 in /usr/local/lib/python3.7/dist-packages (from voxel51-eta<0.7,>=0.6.1->fiftyone) (0.7)\n",
            "Requirement already satisfied: sortedcontainers in /usr/local/lib/python3.7/dist-packages (from voxel51-eta<0.7,>=0.6.1->fiftyone) (2.4.0)\n",
            "Collecting ndjson\n",
            "  Downloading ndjson-0.3.1-py2.py3-none-any.whl (5.3 kB)\n",
            "Requirement already satisfied: tzlocal in /usr/local/lib/python3.7/dist-packages (from voxel51-eta<0.7,>=0.6.1->fiftyone) (1.5.1)\n",
            "Requirement already satisfied: importlib-metadata in /usr/local/lib/python3.7/dist-packages (from voxel51-eta<0.7,>=0.6.1->fiftyone) (4.8.2)\n",
            "Collecting patool\n",
            "  Downloading patool-1.12-py2.py3-none-any.whl (77 kB)\n",
            "\u001b[K     |████████████████████████████████| 77 kB 4.8 MB/s \n",
            "\u001b[?25hRequirement already satisfied: requests in /usr/local/lib/python3.7/dist-packages (from voxel51-eta<0.7,>=0.6.1->fiftyone) (2.23.0)\n",
            "Requirement already satisfied: python-dateutil in /usr/local/lib/python3.7/dist-packages (from voxel51-eta<0.7,>=0.6.1->fiftyone) (2.8.2)\n",
            "Requirement already satisfied: zipp>=0.5 in /usr/local/lib/python3.7/dist-packages (from importlib-metadata->voxel51-eta<0.7,>=0.6.1->fiftyone) (3.6.0)\n",
            "Collecting jmespath<1.0.0,>=0.7.1\n",
            "  Downloading jmespath-0.10.0-py2.py3-none-any.whl (24 kB)\n",
            "Collecting botocore<1.24.0,>=1.23.27\n",
            "  Downloading botocore-1.23.27-py3-none-any.whl (8.5 MB)\n",
            "\u001b[K     |████████████████████████████████| 8.5 MB 40.2 MB/s \n",
            "\u001b[?25hCollecting s3transfer<0.6.0,>=0.5.0\n",
            "  Downloading s3transfer-0.5.0-py3-none-any.whl (79 kB)\n",
            "\u001b[K     |████████████████████████████████| 79 kB 1.5 MB/s \n",
            "\u001b[?25hCollecting urllib3<1.27,>=1.25.4\n",
            "  Downloading urllib3-1.26.7-py2.py3-none-any.whl (138 kB)\n",
            "\u001b[K     |████████████████████████████████| 138 kB 59.2 MB/s \n",
            "\u001b[?25hRequirement already satisfied: wrapt<2,>=1.10 in /usr/local/lib/python3.7/dist-packages (from Deprecated->fiftyone) (1.13.3)\n",
            "Collecting dnspython>=1.15.0\n",
            "  Downloading dnspython-2.1.0-py3-none-any.whl (241 kB)\n",
            "\u001b[K     |████████████████████████████████| 241 kB 48.0 MB/s \n",
            "\u001b[?25hRequirement already satisfied: greenlet>=0.3 in /usr/local/lib/python3.7/dist-packages (from eventlet->fiftyone) (1.1.2)\n",
            "Requirement already satisfied: MarkupSafe>=0.23 in /usr/local/lib/python3.7/dist-packages (from Jinja2->fiftyone) (2.0.1)\n",
            "Requirement already satisfied: pyparsing!=2.0.4,!=2.1.2,!=2.1.6,>=2.0.1 in /usr/local/lib/python3.7/dist-packages (from matplotlib->fiftyone) (3.0.6)\n",
            "Requirement already satisfied: cycler>=0.10 in /usr/local/lib/python3.7/dist-packages (from matplotlib->fiftyone) (0.11.0)\n",
            "Requirement already satisfied: kiwisolver>=1.0.1 in /usr/local/lib/python3.7/dist-packages (from matplotlib->fiftyone) (1.3.2)\n",
            "Collecting urllib3<1.27,>=1.25.4\n",
            "  Downloading urllib3-1.25.11-py2.py3-none-any.whl (127 kB)\n",
            "\u001b[K     |████████████████████████████████| 127 kB 44.7 MB/s \n",
            "\u001b[?25hRequirement already satisfied: chardet<4,>=3.0.2 in /usr/local/lib/python3.7/dist-packages (from requests->voxel51-eta<0.7,>=0.6.1->fiftyone) (3.0.4)\n",
            "Requirement already satisfied: PyWavelets>=1.1.1 in /usr/local/lib/python3.7/dist-packages (from scikit-image->fiftyone) (1.2.0)\n",
            "Requirement already satisfied: imageio>=2.3.0 in /usr/local/lib/python3.7/dist-packages (from scikit-image->fiftyone) (2.4.1)\n",
            "Requirement already satisfied: tifffile>=2019.7.26 in /usr/local/lib/python3.7/dist-packages (from scikit-image->fiftyone) (2021.11.2)\n",
            "Requirement already satisfied: networkx>=2.0 in /usr/local/lib/python3.7/dist-packages (from scikit-image->fiftyone) (2.6.3)\n",
            "Requirement already satisfied: joblib>=0.11 in /usr/local/lib/python3.7/dist-packages (from scikit-learn->fiftyone) (1.1.0)\n",
            "Requirement already satisfied: threadpoolctl>=2.0.0 in /usr/local/lib/python3.7/dist-packages (from scikit-learn->fiftyone) (3.0.0)\n",
            "Installing collected packages: sniffio, urllib3, rfc3986, jmespath, h11, anyio, httpcore, botocore, s3transfer, patool, opencv-python-headless, ndjson, httpx, dnspython, xmltodict, voxel51-eta, universal-analytics-python3, pprintpp, plotly, motor, mongoengine, kaleido, fiftyone-db, fiftyone-brain, eventlet, Deprecated, boto3, aiofiles, fiftyone\n",
            "  Attempting uninstall: urllib3\n",
            "    Found existing installation: urllib3 1.24.3\n",
            "    Uninstalling urllib3-1.24.3:\n",
            "      Successfully uninstalled urllib3-1.24.3\n",
            "  Attempting uninstall: plotly\n",
            "    Found existing installation: plotly 4.4.1\n",
            "    Uninstalling plotly-4.4.1:\n",
            "      Successfully uninstalled plotly-4.4.1\n",
            "\u001b[31mERROR: pip's dependency resolver does not currently take into account all the packages that are installed. This behaviour is the source of the following dependency conflicts.\n",
            "datascience 0.10.6 requires folium==0.2.1, but you have folium 0.8.3 which is incompatible.\u001b[0m\n",
            "Successfully installed Deprecated-1.2.13 aiofiles-0.8.0 anyio-3.4.0 boto3-1.20.27 botocore-1.23.27 dnspython-2.1.0 eventlet-0.33.0 fiftyone-0.14.2 fiftyone-brain-0.7.2 fiftyone-db-0.3.0 h11-0.12.0 httpcore-0.14.3 httpx-0.21.1 jmespath-0.10.0 kaleido-0.2.1 mongoengine-0.20.0 motor-2.5.1 ndjson-0.3.1 opencv-python-headless-4.5.5.62 patool-1.12 plotly-4.14.3 pprintpp-0.4.0 rfc3986-1.5.0 s3transfer-0.5.0 sniffio-1.2.0 universal-analytics-python3-1.1.1 urllib3-1.25.11 voxel51-eta-0.6.1 xmltodict-0.12.0\n"
          ]
        }
      ],
      "source": [
        "!pip install fiftyone"
      ]
    },
    {
      "cell_type": "code",
      "source": [
        "!pip install opencv-python-headless==4.5.4.60 fiftyone"
      ],
      "metadata": {
        "colab": {
          "base_uri": "https://localhost:8080/"
        },
        "id": "aLuolhtzqFAj",
        "outputId": "e1e87756-3567-4543-90fb-f3b9e0e8a0db"
      },
      "execution_count": 2,
      "outputs": [
        {
          "output_type": "stream",
          "name": "stdout",
          "text": [
            "Collecting opencv-python-headless==4.5.4.60\n",
            "  Downloading opencv_python_headless-4.5.4.60-cp37-cp37m-manylinux_2_17_x86_64.manylinux2014_x86_64.whl (47.6 MB)\n",
            "\u001b[K     |████████████████████████████████| 47.6 MB 99 kB/s \n",
            "\u001b[?25hRequirement already satisfied: fiftyone in /usr/local/lib/python3.7/dist-packages (0.14.2)\n",
            "Requirement already satisfied: numpy>=1.14.5 in /usr/local/lib/python3.7/dist-packages (from opencv-python-headless==4.5.4.60) (1.19.5)\n",
            "Requirement already satisfied: pytz in /usr/local/lib/python3.7/dist-packages (from fiftyone) (2018.9)\n",
            "Requirement already satisfied: xmltodict in /usr/local/lib/python3.7/dist-packages (from fiftyone) (0.12.0)\n",
            "Requirement already satisfied: pprintpp in /usr/local/lib/python3.7/dist-packages (from fiftyone) (0.4.0)\n",
            "Requirement already satisfied: mongoengine==0.20.0 in /usr/local/lib/python3.7/dist-packages (from fiftyone) (0.20.0)\n",
            "Requirement already satisfied: plotly<5,>=4.14 in /usr/local/lib/python3.7/dist-packages (from fiftyone) (4.14.3)\n",
            "Requirement already satisfied: aiofiles in /usr/local/lib/python3.7/dist-packages (from fiftyone) (0.8.0)\n",
            "Requirement already satisfied: Pillow>=6.2 in /usr/local/lib/python3.7/dist-packages (from fiftyone) (7.1.2)\n",
            "Requirement already satisfied: voxel51-eta<0.7,>=0.6.1 in /usr/local/lib/python3.7/dist-packages (from fiftyone) (0.6.1)\n",
            "Requirement already satisfied: pymongo<4,>=3.11 in /usr/local/lib/python3.7/dist-packages (from fiftyone) (3.12.1)\n",
            "Requirement already satisfied: universal-analytics-python3<2,>=1.0.1 in /usr/local/lib/python3.7/dist-packages (from fiftyone) (1.1.1)\n",
            "Requirement already satisfied: Deprecated in /usr/local/lib/python3.7/dist-packages (from fiftyone) (1.2.13)\n",
            "Requirement already satisfied: setuptools in /usr/local/lib/python3.7/dist-packages (from fiftyone) (57.4.0)\n",
            "Requirement already satisfied: packaging in /usr/local/lib/python3.7/dist-packages (from fiftyone) (21.3)\n",
            "Requirement already satisfied: kaleido in /usr/local/lib/python3.7/dist-packages (from fiftyone) (0.2.1)\n",
            "Requirement already satisfied: matplotlib in /usr/local/lib/python3.7/dist-packages (from fiftyone) (3.2.2)\n",
            "Requirement already satisfied: tabulate in /usr/local/lib/python3.7/dist-packages (from fiftyone) (0.8.9)\n",
            "Requirement already satisfied: tornado<7,>=5.1.1 in /usr/local/lib/python3.7/dist-packages (from fiftyone) (5.1.1)\n",
            "Requirement already satisfied: argcomplete in /usr/local/lib/python3.7/dist-packages (from fiftyone) (1.12.3)\n",
            "Requirement already satisfied: future in /usr/local/lib/python3.7/dist-packages (from fiftyone) (0.16.0)\n",
            "Requirement already satisfied: scikit-learn in /usr/local/lib/python3.7/dist-packages (from fiftyone) (1.0.1)\n",
            "Requirement already satisfied: eventlet in /usr/local/lib/python3.7/dist-packages (from fiftyone) (0.33.0)\n",
            "Requirement already satisfied: psutil in /usr/local/lib/python3.7/dist-packages (from fiftyone) (5.4.8)\n",
            "Requirement already satisfied: retrying in /usr/local/lib/python3.7/dist-packages (from fiftyone) (1.3.3)\n",
            "Requirement already satisfied: fiftyone-brain<0.8,>=0.7.2 in /usr/local/lib/python3.7/dist-packages (from fiftyone) (0.7.2)\n",
            "Requirement already satisfied: Jinja2 in /usr/local/lib/python3.7/dist-packages (from fiftyone) (2.11.3)\n",
            "Requirement already satisfied: motor<3,>=2.3 in /usr/local/lib/python3.7/dist-packages (from fiftyone) (2.5.1)\n",
            "Requirement already satisfied: PyYAML in /usr/local/lib/python3.7/dist-packages (from fiftyone) (3.13)\n",
            "Requirement already satisfied: fiftyone-db<0.4,>=0.3 in /usr/local/lib/python3.7/dist-packages (from fiftyone) (0.3.0)\n",
            "Requirement already satisfied: scikit-image in /usr/local/lib/python3.7/dist-packages (from fiftyone) (0.18.3)\n",
            "Requirement already satisfied: boto3 in /usr/local/lib/python3.7/dist-packages (from fiftyone) (1.20.27)\n",
            "Requirement already satisfied: pandas in /usr/local/lib/python3.7/dist-packages (from fiftyone) (1.1.5)\n",
            "Requirement already satisfied: scipy>=1.2.0 in /usr/local/lib/python3.7/dist-packages (from fiftyone-brain<0.8,>=0.7.2->fiftyone) (1.4.1)\n",
            "Requirement already satisfied: six in /usr/local/lib/python3.7/dist-packages (from plotly<5,>=4.14->fiftyone) (1.15.0)\n",
            "Requirement already satisfied: httpx>=0.10.0 in /usr/local/lib/python3.7/dist-packages (from universal-analytics-python3<2,>=1.0.1->fiftyone) (0.21.1)\n",
            "Requirement already satisfied: httpcore<0.15.0,>=0.14.0 in /usr/local/lib/python3.7/dist-packages (from httpx>=0.10.0->universal-analytics-python3<2,>=1.0.1->fiftyone) (0.14.3)\n",
            "Requirement already satisfied: rfc3986[idna2008]<2,>=1.3 in /usr/local/lib/python3.7/dist-packages (from httpx>=0.10.0->universal-analytics-python3<2,>=1.0.1->fiftyone) (1.5.0)\n",
            "Requirement already satisfied: certifi in /usr/local/lib/python3.7/dist-packages (from httpx>=0.10.0->universal-analytics-python3<2,>=1.0.1->fiftyone) (2021.10.8)\n",
            "Requirement already satisfied: charset-normalizer in /usr/local/lib/python3.7/dist-packages (from httpx>=0.10.0->universal-analytics-python3<2,>=1.0.1->fiftyone) (2.0.8)\n",
            "Requirement already satisfied: sniffio in /usr/local/lib/python3.7/dist-packages (from httpx>=0.10.0->universal-analytics-python3<2,>=1.0.1->fiftyone) (1.2.0)\n",
            "Requirement already satisfied: h11<0.13,>=0.11 in /usr/local/lib/python3.7/dist-packages (from httpcore<0.15.0,>=0.14.0->httpx>=0.10.0->universal-analytics-python3<2,>=1.0.1->fiftyone) (0.12.0)\n",
            "Requirement already satisfied: anyio==3.* in /usr/local/lib/python3.7/dist-packages (from httpcore<0.15.0,>=0.14.0->httpx>=0.10.0->universal-analytics-python3<2,>=1.0.1->fiftyone) (3.4.0)\n",
            "Requirement already satisfied: typing-extensions in /usr/local/lib/python3.7/dist-packages (from anyio==3.*->httpcore<0.15.0,>=0.14.0->httpx>=0.10.0->universal-analytics-python3<2,>=1.0.1->fiftyone) (3.10.0.2)\n",
            "Requirement already satisfied: idna>=2.8 in /usr/local/lib/python3.7/dist-packages (from anyio==3.*->httpcore<0.15.0,>=0.14.0->httpx>=0.10.0->universal-analytics-python3<2,>=1.0.1->fiftyone) (2.10)\n",
            "Requirement already satisfied: importlib-metadata in /usr/local/lib/python3.7/dist-packages (from voxel51-eta<0.7,>=0.6.1->fiftyone) (4.8.2)\n",
            "Requirement already satisfied: patool in /usr/local/lib/python3.7/dist-packages (from voxel51-eta<0.7,>=0.6.1->fiftyone) (1.12)\n",
            "Requirement already satisfied: sortedcontainers in /usr/local/lib/python3.7/dist-packages (from voxel51-eta<0.7,>=0.6.1->fiftyone) (2.4.0)\n",
            "Requirement already satisfied: tzlocal in /usr/local/lib/python3.7/dist-packages (from voxel51-eta<0.7,>=0.6.1->fiftyone) (1.5.1)\n",
            "Requirement already satisfied: dill in /usr/local/lib/python3.7/dist-packages (from voxel51-eta<0.7,>=0.6.1->fiftyone) (0.3.4)\n",
            "Requirement already satisfied: ndjson in /usr/local/lib/python3.7/dist-packages (from voxel51-eta<0.7,>=0.6.1->fiftyone) (0.3.1)\n",
            "Requirement already satisfied: python-dateutil in /usr/local/lib/python3.7/dist-packages (from voxel51-eta<0.7,>=0.6.1->fiftyone) (2.8.2)\n",
            "Requirement already satisfied: glob2 in /usr/local/lib/python3.7/dist-packages (from voxel51-eta<0.7,>=0.6.1->fiftyone) (0.7)\n",
            "Requirement already satisfied: requests in /usr/local/lib/python3.7/dist-packages (from voxel51-eta<0.7,>=0.6.1->fiftyone) (2.23.0)\n",
            "Requirement already satisfied: zipp>=0.5 in /usr/local/lib/python3.7/dist-packages (from importlib-metadata->voxel51-eta<0.7,>=0.6.1->fiftyone) (3.6.0)\n",
            "Requirement already satisfied: jmespath<1.0.0,>=0.7.1 in /usr/local/lib/python3.7/dist-packages (from boto3->fiftyone) (0.10.0)\n",
            "Requirement already satisfied: s3transfer<0.6.0,>=0.5.0 in /usr/local/lib/python3.7/dist-packages (from boto3->fiftyone) (0.5.0)\n",
            "Requirement already satisfied: botocore<1.24.0,>=1.23.27 in /usr/local/lib/python3.7/dist-packages (from boto3->fiftyone) (1.23.27)\n",
            "Requirement already satisfied: urllib3<1.27,>=1.25.4 in /usr/local/lib/python3.7/dist-packages (from botocore<1.24.0,>=1.23.27->boto3->fiftyone) (1.25.11)\n",
            "Requirement already satisfied: wrapt<2,>=1.10 in /usr/local/lib/python3.7/dist-packages (from Deprecated->fiftyone) (1.13.3)\n",
            "Requirement already satisfied: dnspython>=1.15.0 in /usr/local/lib/python3.7/dist-packages (from eventlet->fiftyone) (2.1.0)\n",
            "Requirement already satisfied: greenlet>=0.3 in /usr/local/lib/python3.7/dist-packages (from eventlet->fiftyone) (1.1.2)\n",
            "Requirement already satisfied: MarkupSafe>=0.23 in /usr/local/lib/python3.7/dist-packages (from Jinja2->fiftyone) (2.0.1)\n",
            "Requirement already satisfied: kiwisolver>=1.0.1 in /usr/local/lib/python3.7/dist-packages (from matplotlib->fiftyone) (1.3.2)\n",
            "Requirement already satisfied: cycler>=0.10 in /usr/local/lib/python3.7/dist-packages (from matplotlib->fiftyone) (0.11.0)\n",
            "Requirement already satisfied: pyparsing!=2.0.4,!=2.1.2,!=2.1.6,>=2.0.1 in /usr/local/lib/python3.7/dist-packages (from matplotlib->fiftyone) (3.0.6)\n",
            "Requirement already satisfied: chardet<4,>=3.0.2 in /usr/local/lib/python3.7/dist-packages (from requests->voxel51-eta<0.7,>=0.6.1->fiftyone) (3.0.4)\n",
            "Requirement already satisfied: PyWavelets>=1.1.1 in /usr/local/lib/python3.7/dist-packages (from scikit-image->fiftyone) (1.2.0)\n",
            "Requirement already satisfied: tifffile>=2019.7.26 in /usr/local/lib/python3.7/dist-packages (from scikit-image->fiftyone) (2021.11.2)\n",
            "Requirement already satisfied: networkx>=2.0 in /usr/local/lib/python3.7/dist-packages (from scikit-image->fiftyone) (2.6.3)\n",
            "Requirement already satisfied: imageio>=2.3.0 in /usr/local/lib/python3.7/dist-packages (from scikit-image->fiftyone) (2.4.1)\n",
            "Requirement already satisfied: threadpoolctl>=2.0.0 in /usr/local/lib/python3.7/dist-packages (from scikit-learn->fiftyone) (3.0.0)\n",
            "Requirement already satisfied: joblib>=0.11 in /usr/local/lib/python3.7/dist-packages (from scikit-learn->fiftyone) (1.1.0)\n",
            "Installing collected packages: opencv-python-headless\n",
            "  Attempting uninstall: opencv-python-headless\n",
            "    Found existing installation: opencv-python-headless 4.5.5.62\n",
            "    Uninstalling opencv-python-headless-4.5.5.62:\n",
            "      Successfully uninstalled opencv-python-headless-4.5.5.62\n",
            "Successfully installed opencv-python-headless-4.5.4.60\n"
          ]
        }
      ]
    },
    {
      "cell_type": "code",
      "source": [
        "import fiftyone as fo\n",
        "import fiftyone.zoo as foz\n",
        "#\n",
        "# Load 50 random samples from the validation split\n",
        "#\n",
        "# Only the required images will be downloaded (if necessary).\n",
        "# By default, only detections are loaded\n",
        "#\n",
        "\n",
        "dataset = foz.load_zoo_dataset(\n",
        "    \"coco-2017\",\n",
        "    split=\"validation\",\n",
        "    max_samples=100,\n",
        "    shuffle=True,\n",
        ")\n",
        "\n",
        "session = fo.launch_app(dataset)\n",
        "\n",
        "#\n",
        "# Load segmentations for 25 samples from the validation split that\n",
        "# contain cats and dogs\n",
        "#\n",
        "# Images that contain all `classes` will be prioritized first, followed\n",
        "# by images that contain at least one of the required `classes`. If\n",
        "# there are not enough images matching `classes` in the split to meet\n",
        "# `max_samples`, only the available images will be loaded.\n",
        "#\n",
        "# Images will only be downloaded if necessary\n",
        "#\n",
        "\n",
        "dataset = foz.load_zoo_dataset(\n",
        "    \"coco-2017\",\n",
        "    split=\"validation\",\n",
        "    label_types=[\"detections\"],\n",
        "    classes=[\"car\", \"bicycle\",\"person\"],\n",
        "    max_samples=100,\n",
        ")\n",
        "\n",
        "session.dataset = dataset"
      ],
      "metadata": {
        "colab": {
          "resources": {
            "https://localhost:5151/polling?sessionId=37c8a6c2-904a-4a1f-8c33-019e665c56ab": {
              "data": "eyJtZXNzYWdlcyI6IFtdfQ==",
              "ok": true,
              "headers": [
                [
                  "access-control-allow-headers",
                  "x-requested-with"
                ],
                [
                  "content-type",
                  "text/html; charset=UTF-8"
                ]
              ],
              "status": 200,
              "status_text": ""
            },
            "https://localhost:5151/polling?sessionId=964bc637-8ec9-4c02-9251-140de0b49317": {
              "data": "eyJtZXNzYWdlcyI6IFtdfQ==",
              "ok": true,
              "headers": [
                [
                  "access-control-allow-headers",
                  "x-requested-with"
                ],
                [
                  "content-type",
                  "text/html; charset=UTF-8"
                ]
              ],
              "status": 200,
              "status_text": ""
            }
          },
          "base_uri": "https://localhost:8080/",
          "height": 1000
        },
        "id": "bGfugDXLqg_p",
        "outputId": "1a867e8b-8cf1-439c-f012-16a0a14c1c74"
      },
      "execution_count": 3,
      "outputs": [
        {
          "output_type": "stream",
          "name": "stdout",
          "text": [
            "Downloading split 'validation' to '/root/fiftyone/coco-2017/validation' if necessary\n",
            "Downloading annotations to '/root/fiftyone/coco-2017/tmp-download/annotations_trainval2017.zip'\n",
            " 100% |██████|    1.9Gb/1.9Gb [2.6s elapsed, 0s remaining, 656.8Mb/s]      \n",
            "Extracting annotations to '/root/fiftyone/coco-2017/raw/instances_val2017.json'\n",
            "Downloading 100 images\n",
            " 100% |██████████████████| 100/100 [4.8s elapsed, 0s remaining, 22.3 images/s]      \n",
            "Writing annotations for 100 downloaded samples to '/root/fiftyone/coco-2017/validation/labels.json'\n",
            "Dataset info written to '/root/fiftyone/coco-2017/info.json'\n",
            "Loading 'coco-2017' split 'validation'\n",
            " 100% |█████████████████| 100/100 [773.9ms elapsed, 0s remaining, 129.2 samples/s]      \n",
            "Dataset 'coco-2017-validation-100' created\n"
          ]
        },
        {
          "output_type": "display_data",
          "data": {
            "text/html": [
              "\n",
              "<style>\n",
              "\n",
              "@import url(\"https://fonts.googleapis.com/css2?family=Palanquin&display=swap\");\n",
              "\n",
              "#focontainer-3e457346-8dad-4dd7-a460-7db1d91ff3df {\n",
              "  position: relative;\n",
              "  display: block !important;\n",
              "}\n",
              "#foactivate-3e457346-8dad-4dd7-a460-7db1d91ff3df {\n",
              "  font-weight: bold;\n",
              "  cursor: pointer;\n",
              "  font-size: 24px;\n",
              "  border-radius: 3px;\n",
              "  text-align: center;\n",
              "  padding: 0.5em;\n",
              "  color: rgb(255, 255, 255);\n",
              "  font-family: \"Palanquin\", sans-serif;\n",
              "  position: absolute;\n",
              "  left: 50%;\n",
              "  top: 50%;\n",
              "  width: 160px;\n",
              "  margin-left: -80px;\n",
              "  margin-top: -23px;\n",
              "  background: hsla(210,11%,15%, 0.8);\n",
              "  border: none;\n",
              "}\n",
              "#foactivate-3e457346-8dad-4dd7-a460-7db1d91ff3df:focus {\n",
              "  outline: none;\n",
              "}\n",
              "#fooverlay-3e457346-8dad-4dd7-a460-7db1d91ff3df {\n",
              "  width: 100%;\n",
              "  height: 100%;\n",
              "  background: hsla(208, 7%, 46%, 0.7);\n",
              "  position: absolute;\n",
              "  top: 0;\n",
              "  left: 0;\n",
              "  display: none;\n",
              "  cursor: pointer;\n",
              "}\n",
              "</style>\n",
              "<div id=\"focontainer-3e457346-8dad-4dd7-a460-7db1d91ff3df\" style=\"display: none;\">\n",
              "   <div id=\"fooverlay-3e457346-8dad-4dd7-a460-7db1d91ff3df\">\n",
              "      <button id=\"foactivate-3e457346-8dad-4dd7-a460-7db1d91ff3df\" >Activate</button>\n",
              "   </div>\n",
              "</div>"
            ],
            "text/plain": [
              "<IPython.core.display.HTML object>"
            ]
          },
          "metadata": {}
        },
        {
          "output_type": "stream",
          "name": "stdout",
          "text": [
            "Downloading split 'validation' to '/root/fiftyone/coco-2017/validation' if necessary\n",
            "Found annotations at '/root/fiftyone/coco-2017/raw/instances_val2017.json'\n",
            "53 images found; downloading the remaining 47\n",
            " 100% |████████████████████| 47/47 [2.1s elapsed, 0s remaining, 22.8 images/s]      \n",
            "Writing annotations for 147 downloaded samples to '/root/fiftyone/coco-2017/validation/labels.json'\n",
            "Dataset info written to '/root/fiftyone/coco-2017/info.json'\n",
            "Loading existing dataset 'coco-2017-validation-100'. To reload from disk, either delete the existing dataset or provide a custom `dataset_name` to use\n"
          ]
        },
        {
          "output_type": "display_data",
          "data": {
            "text/html": [
              "\n",
              "<style>\n",
              "\n",
              "@import url(\"https://fonts.googleapis.com/css2?family=Palanquin&display=swap\");\n",
              "\n",
              "#focontainer-ac52c9db-53d8-4748-b043-5af84c76df61 {\n",
              "  position: relative;\n",
              "  display: block !important;\n",
              "}\n",
              "#foactivate-ac52c9db-53d8-4748-b043-5af84c76df61 {\n",
              "  font-weight: bold;\n",
              "  cursor: pointer;\n",
              "  font-size: 24px;\n",
              "  border-radius: 3px;\n",
              "  text-align: center;\n",
              "  padding: 0.5em;\n",
              "  color: rgb(255, 255, 255);\n",
              "  font-family: \"Palanquin\", sans-serif;\n",
              "  position: absolute;\n",
              "  left: 50%;\n",
              "  top: 50%;\n",
              "  width: 160px;\n",
              "  margin-left: -80px;\n",
              "  margin-top: -23px;\n",
              "  background: hsla(210,11%,15%, 0.8);\n",
              "  border: none;\n",
              "}\n",
              "#foactivate-ac52c9db-53d8-4748-b043-5af84c76df61:focus {\n",
              "  outline: none;\n",
              "}\n",
              "#fooverlay-ac52c9db-53d8-4748-b043-5af84c76df61 {\n",
              "  width: 100%;\n",
              "  height: 100%;\n",
              "  background: hsla(208, 7%, 46%, 0.7);\n",
              "  position: absolute;\n",
              "  top: 0;\n",
              "  left: 0;\n",
              "  display: none;\n",
              "  cursor: pointer;\n",
              "}\n",
              "</style>\n",
              "<div id=\"focontainer-ac52c9db-53d8-4748-b043-5af84c76df61\" style=\"display: none;\">\n",
              "   <div id=\"fooverlay-ac52c9db-53d8-4748-b043-5af84c76df61\">\n",
              "      <button id=\"foactivate-ac52c9db-53d8-4748-b043-5af84c76df61\" >Activate</button>\n",
              "   </div>\n",
              "</div>"
            ],
            "text/plain": [
              "<IPython.core.display.HTML object>"
            ]
          },
          "metadata": {}
        },
        {
          "output_type": "display_data",
          "data": {
            "application/javascript": [
              "window[\"d3951446-6d72-11ec-aca9-0242ac1c0002\"] = google.colab.output.getActiveOutputArea();\n",
              "//# sourceURL=js_7fcdd63069"
            ],
            "text/plain": [
              "<IPython.core.display.Javascript object>"
            ]
          },
          "metadata": {}
        },
        {
          "output_type": "display_data",
          "data": {
            "application/javascript": [
              "window[\"d39594b6-6d72-11ec-aca9-0242ac1c0002\"] = document.querySelector(\"#focontainer-3e457346-8dad-4dd7-a460-7db1d91ff3df\");\n",
              "//# sourceURL=js_f18425173a"
            ],
            "text/plain": [
              "<IPython.core.display.Javascript object>"
            ]
          },
          "metadata": {}
        },
        {
          "output_type": "display_data",
          "data": {
            "application/javascript": [
              "window[\"d395f65e-6d72-11ec-aca9-0242ac1c0002\"] = google.colab.output.setActiveOutputArea(window[\"d39594b6-6d72-11ec-aca9-0242ac1c0002\"]);\n",
              "//# sourceURL=js_526c708992"
            ],
            "text/plain": [
              "<IPython.core.display.Javascript object>"
            ]
          },
          "metadata": {}
        },
        {
          "output_type": "display_data",
          "data": {
            "text/html": [
              "\n",
              "                <img id='fo-3e457346-8dad-4dd7-a460-7db1d91ff3df0' class='foimage' src='data:image/png;base64,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'\n",
              "                    style='width: 100%; max-width: 1227px'/>\n",
              "                <style>\n",
              "                #fo-3e457346-8dad-4dd7-a460-7db1d91ff3df-1 {\n",
              "                    display: none;\n",
              "                }\n",
              "                </style>\n",
              "                "
            ],
            "text/plain": [
              "<IPython.core.display.HTML object>"
            ]
          },
          "metadata": {}
        },
        {
          "output_type": "display_data",
          "data": {
            "application/javascript": [
              "window[\"d3971ab6-6d72-11ec-aca9-0242ac1c0002\"] = google.colab.output.setActiveOutputArea(window[\"d3951446-6d72-11ec-aca9-0242ac1c0002\"]);\n",
              "//# sourceURL=js_31a1717461"
            ],
            "text/plain": [
              "<IPython.core.display.Javascript object>"
            ]
          },
          "metadata": {}
        }
      ]
    }
  ]
}