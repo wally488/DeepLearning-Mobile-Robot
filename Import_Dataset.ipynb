{
  "nbformat": 4,
  "nbformat_minor": 0,
  "metadata": {
    "colab": {
      "name": "Import Dataset.ipynb",
      "provenance": [],
      "collapsed_sections": [],
      "authorship_tag": "ABX9TyNM5kTVRm+5Grl0eNuN+v5i",
      "include_colab_link": true
    },
    "kernelspec": {
      "name": "python3",
      "display_name": "Python 3"
    },
    "language_info": {
      "name": "python"
    }
  },
  "cells": [
    {
      "cell_type": "markdown",
      "metadata": {
        "id": "view-in-github",
        "colab_type": "text"
      },
      "source": [
        "<a href=\"https://colab.research.google.com/github/wally488/DeepLearning-Mobile-Robot/blob/main/Import_Dataset.ipynb\" target=\"_parent\"><img src=\"https://colab.research.google.com/assets/colab-badge.svg\" alt=\"Open In Colab\"/></a>"
      ]
    },
    {
      "cell_type": "code",
      "metadata": {
        "id": "hYbahL-Eiw38"
      },
      "source": [
        "!pip install fiftyone"
      ],
      "execution_count": null,
      "outputs": []
    },
    {
      "cell_type": "code",
      "metadata": {
        "id": "A6wnDsA0i63H"
      },
      "source": [
        "import fiftyone as fo\n",
        "import fiftyone.zoo as foz\n",
        "# The directory containing the source images\n",
        "data_path = \"/content/images\"\n",
        "\n",
        "# The path to the COCO labels JSON file\n",
        "labels_path = \"/content/sample_data/output.json\"\n",
        "\n",
        "# Import the dataset\n",
        "dataset = fo.Dataset.from_dir(\n",
        "    dataset_type=fo.types.COCODetectionDataset,\n",
        "    data_path=data_path,\n",
        "    labels_path=labels_path,\n",
        ")\n"
      ],
      "execution_count": null,
      "outputs": []
    },
    {
      "cell_type": "code",
      "metadata": {
        "id": "ns86ijQYjguq"
      },
      "source": [
        "session = fo.launch_app(dataset)"
      ],
      "execution_count": null,
      "outputs": []
    },
    {
      "cell_type": "code",
      "metadata": {
        "id": "w2_PFjb8n22d"
      },
      "source": [
        "model = foz.load_zoo_model(\"faster-rcnn-resnet50-fpn-coco-torch\")\n",
        "\n",
        "# This will take some time. If not using a GPU, I recommend reducing\n",
        "# the dataset size with the below line. Results will differ.\n",
        "# \n",
        "# dataset = dataset.take(100)\n",
        "\n",
        "dataset.apply_model(model, label_field=\"predictions\", confidence_thresh=0.6)"
      ],
      "execution_count": null,
      "outputs": []
    },
    {
      "cell_type": "code",
      "metadata": {
        "id": "IXc_x0lkoCDK"
      },
      "source": [
        "from fiftyone import ViewField as F\n",
        "\n",
        "vehicle_labels = [\"motorcycle\",\"car\", \"truck\"]\n",
        "only_vehicles = F(\"label\").is_in(vehicle_labels)\n",
        "\n",
        "vehicles = (\n",
        "    dataset\n",
        "    .filter_labels(\"predictions\", only_vehicles)\n",
        "    .filter_labels(\"ground_truth\", only_vehicles)\n",
        ")\n",
        "\n",
        "session.view = vehicles"
      ],
      "execution_count": null,
      "outputs": []
    }
  ]
}